{
 "cells": [
  {
   "cell_type": "code",
   "execution_count": 20,
   "id": "fab6ff9e",
   "metadata": {},
   "outputs": [],
   "source": [
    "import pandas as pd\n",
    "import numpy as np\n",
    "import seaborn as sns\n",
    "import matplotlib.pyplot as plt\n",
    "from seaborn import set_style\n",
    "set_style('whitegrid')"
   ]
  },
  {
   "cell_type": "code",
   "execution_count": 21,
   "id": "da44aba3",
   "metadata": {},
   "outputs": [],
   "source": [
    "gross_data = pd.read_csv('https://raw.githubusercontent.com/tacookson/data/master/broadway-grosses/grosses.csv')"
   ]
  },
  {
   "cell_type": "code",
   "execution_count": 22,
   "id": "ffd7292e",
   "metadata": {},
   "outputs": [],
   "source": [
    "show_info_data = pd.read_csv('https://raw.githubusercontent.com/PSha98/Erdos-2022-project/main/Data_collection/show_info_1985-2019.csv')"
   ]
  },
  {
   "cell_type": "code",
   "execution_count": 23,
   "id": "83198ad7",
   "metadata": {},
   "outputs": [
    {
     "data": {
      "text/html": [
       "<div>\n",
       "<style scoped>\n",
       "    .dataframe tbody tr th:only-of-type {\n",
       "        vertical-align: middle;\n",
       "    }\n",
       "\n",
       "    .dataframe tbody tr th {\n",
       "        vertical-align: top;\n",
       "    }\n",
       "\n",
       "    .dataframe thead th {\n",
       "        text-align: right;\n",
       "    }\n",
       "</style>\n",
       "<table border=\"1\" class=\"dataframe\">\n",
       "  <thead>\n",
       "    <tr style=\"text-align: right;\">\n",
       "      <th></th>\n",
       "      <th>week_ending</th>\n",
       "      <th>week_number</th>\n",
       "      <th>weekly_gross_overall</th>\n",
       "      <th>show</th>\n",
       "      <th>theatre</th>\n",
       "      <th>weekly_gross</th>\n",
       "      <th>potential_gross</th>\n",
       "      <th>avg_ticket_price</th>\n",
       "      <th>top_ticket_price</th>\n",
       "      <th>seats_sold</th>\n",
       "      <th>seats_in_theatre</th>\n",
       "      <th>pct_capacity</th>\n",
       "      <th>performances</th>\n",
       "      <th>previews</th>\n",
       "    </tr>\n",
       "  </thead>\n",
       "  <tbody>\n",
       "    <tr>\n",
       "      <th>0</th>\n",
       "      <td>1985-06-09</td>\n",
       "      <td>1</td>\n",
       "      <td>3915937.0</td>\n",
       "      <td>42nd Street</td>\n",
       "      <td>St. James Theatre</td>\n",
       "      <td>282368.0</td>\n",
       "      <td>NaN</td>\n",
       "      <td>30.42</td>\n",
       "      <td>NaN</td>\n",
       "      <td>9281</td>\n",
       "      <td>1655</td>\n",
       "      <td>0.7010</td>\n",
       "      <td>8</td>\n",
       "      <td>0</td>\n",
       "    </tr>\n",
       "    <tr>\n",
       "      <th>1</th>\n",
       "      <td>1985-06-09</td>\n",
       "      <td>1</td>\n",
       "      <td>3915937.0</td>\n",
       "      <td>A Chorus Line</td>\n",
       "      <td>Sam S. Shubert Theatre</td>\n",
       "      <td>222584.0</td>\n",
       "      <td>NaN</td>\n",
       "      <td>27.25</td>\n",
       "      <td>NaN</td>\n",
       "      <td>8167</td>\n",
       "      <td>1472</td>\n",
       "      <td>0.6935</td>\n",
       "      <td>8</td>\n",
       "      <td>0</td>\n",
       "    </tr>\n",
       "    <tr>\n",
       "      <th>2</th>\n",
       "      <td>1985-06-09</td>\n",
       "      <td>1</td>\n",
       "      <td>3915937.0</td>\n",
       "      <td>Aren't We All?</td>\n",
       "      <td>Brooks Atkinson Theatre</td>\n",
       "      <td>249272.0</td>\n",
       "      <td>NaN</td>\n",
       "      <td>33.75</td>\n",
       "      <td>NaN</td>\n",
       "      <td>7386</td>\n",
       "      <td>1088</td>\n",
       "      <td>0.8486</td>\n",
       "      <td>8</td>\n",
       "      <td>0</td>\n",
       "    </tr>\n",
       "    <tr>\n",
       "      <th>3</th>\n",
       "      <td>1985-06-09</td>\n",
       "      <td>1</td>\n",
       "      <td>3915937.0</td>\n",
       "      <td>Arms and the Man</td>\n",
       "      <td>Circle in the Square Theatre</td>\n",
       "      <td>95688.0</td>\n",
       "      <td>NaN</td>\n",
       "      <td>20.87</td>\n",
       "      <td>NaN</td>\n",
       "      <td>4586</td>\n",
       "      <td>682</td>\n",
       "      <td>0.8405</td>\n",
       "      <td>8</td>\n",
       "      <td>0</td>\n",
       "    </tr>\n",
       "    <tr>\n",
       "      <th>4</th>\n",
       "      <td>1985-06-09</td>\n",
       "      <td>1</td>\n",
       "      <td>3915937.0</td>\n",
       "      <td>As Is</td>\n",
       "      <td>Lyceum Theatre</td>\n",
       "      <td>61059.0</td>\n",
       "      <td>NaN</td>\n",
       "      <td>20.78</td>\n",
       "      <td>NaN</td>\n",
       "      <td>2938</td>\n",
       "      <td>684</td>\n",
       "      <td>0.5369</td>\n",
       "      <td>8</td>\n",
       "      <td>0</td>\n",
       "    </tr>\n",
       "  </tbody>\n",
       "</table>\n",
       "</div>"
      ],
      "text/plain": [
       "  week_ending  week_number  weekly_gross_overall              show  \\\n",
       "0  1985-06-09            1             3915937.0       42nd Street   \n",
       "1  1985-06-09            1             3915937.0     A Chorus Line   \n",
       "2  1985-06-09            1             3915937.0    Aren't We All?   \n",
       "3  1985-06-09            1             3915937.0  Arms and the Man   \n",
       "4  1985-06-09            1             3915937.0             As Is   \n",
       "\n",
       "                        theatre  weekly_gross  potential_gross  \\\n",
       "0             St. James Theatre      282368.0              NaN   \n",
       "1        Sam S. Shubert Theatre      222584.0              NaN   \n",
       "2       Brooks Atkinson Theatre      249272.0              NaN   \n",
       "3  Circle in the Square Theatre       95688.0              NaN   \n",
       "4                Lyceum Theatre       61059.0              NaN   \n",
       "\n",
       "   avg_ticket_price  top_ticket_price  seats_sold  seats_in_theatre  \\\n",
       "0             30.42               NaN        9281              1655   \n",
       "1             27.25               NaN        8167              1472   \n",
       "2             33.75               NaN        7386              1088   \n",
       "3             20.87               NaN        4586               682   \n",
       "4             20.78               NaN        2938               684   \n",
       "\n",
       "   pct_capacity  performances  previews  \n",
       "0        0.7010             8         0  \n",
       "1        0.6935             8         0  \n",
       "2        0.8486             8         0  \n",
       "3        0.8405             8         0  \n",
       "4        0.5369             8         0  "
      ]
     },
     "execution_count": 23,
     "metadata": {},
     "output_type": "execute_result"
    }
   ],
   "source": [
    "#0) Remove shows that lasted for just 1 week?  \n",
    "#1) Seasonal plot for total gross, Total Seats available, Average percentage capacity across week.\n",
    "#2) Trends for total gross (use average across months), (Average percentage capacity across month.)\n",
    "#3) Correlation between gross and stock market data. \n",
    "#4) group data based on Show type, Theatre size, Number of weeks it ran,  and repeat steps 1,2. \n",
    "gross_data.head()\n"
   ]
  },
  {
   "cell_type": "code",
   "execution_count": 24,
   "id": "1426ec7a",
   "metadata": {},
   "outputs": [],
   "source": [
    "# Historgram for show, and number of weeks (number of entries with show name in gross data)\n",
    "shows = gross_data.show"
   ]
  },
  {
   "cell_type": "code",
   "execution_count": 48,
   "id": "073fb398",
   "metadata": {},
   "outputs": [
    {
     "data": {
      "text/plain": [
       "0   NaN\n",
       "1   NaN\n",
       "2   NaN\n",
       "3   NaN\n",
       "4   NaN\n",
       "Name: show, dtype: float64"
      ]
     },
     "execution_count": 48,
     "metadata": {},
     "output_type": "execute_result"
    }
   ],
   "source": [
    "freq = shows.value_counts().reset_index()\n",
    "val = freq.iloc[:,1]\n",
    "s = val.where(val == 1)\n",
    "s.count()"
   ]
  },
  {
   "cell_type": "code",
   "execution_count": null,
   "id": "bdd4ec26",
   "metadata": {},
   "outputs": [],
   "source": [
    "\n"
   ]
  },
  {
   "cell_type": "code",
   "execution_count": null,
   "id": "250551b9",
   "metadata": {},
   "outputs": [],
   "source": []
  }
 ],
 "metadata": {
  "kernelspec": {
   "display_name": "Python 3 (ipykernel)",
   "language": "python",
   "name": "python3"
  },
  "language_info": {
   "codemirror_mode": {
    "name": "ipython",
    "version": 3
   },
   "file_extension": ".py",
   "mimetype": "text/x-python",
   "name": "python",
   "nbconvert_exporter": "python",
   "pygments_lexer": "ipython3",
   "version": "3.9.7"
  }
 },
 "nbformat": 4,
 "nbformat_minor": 5
}
